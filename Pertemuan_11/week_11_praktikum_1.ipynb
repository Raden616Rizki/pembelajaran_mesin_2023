{
  "cells": [
    {
      "cell_type": "markdown",
      "metadata": {
        "id": "dNwIke9QiD3Z"
      },
      "source": [
        "**Praktikum 1**\n",
        "\n",
        "Klasifikasi Kucing dan Anjing\n",
        "\n",
        "---\n",
        "\n",
        "**Deskripsi**\n",
        "\n",
        "Pada praktikum ini kita akan membuat model klasifikasi CNN sederhana pada kasus citra kucing dan anjing.\n",
        "\n",
        "[Download Dataset](https://drive.google.com/file/d/1vYrqBI1VmiXXJd5sgtKK2nuQvC8T1ryb/view)\n",
        "\n",
        "**Langkah 1 - Import Library**"
      ]
    },
    {
      "cell_type": "code",
      "source": [
        "from google.colab import drive # Digunakan untuk mengakses Google Drive dari Google Colab\n",
        "drive.mount('/content/drive') # Menghubungkan Google Drive ke sesi Google Colab"
      ],
      "metadata": {
        "id": "Mh-NVarFllYi"
      },
      "execution_count": null,
      "outputs": []
    },
    {
      "cell_type": "code",
      "execution_count": null,
      "metadata": {
        "id": "Vzz2lG-RiD3i"
      },
      "outputs": [],
      "source": [
        "import tensorflow as tf # Library yang mendukung dalam pembelajaran mesin\n",
        "from keras.preprocessing.image import ImageDataGenerator # Digunakan untuk melakukan augmentasi dan prapemrosesan gambar untuk pelatihan model"
      ]
    },
    {
      "cell_type": "markdown",
      "metadata": {
        "id": "z3LUk3mhiD3j"
      },
      "source": [
        "**Langkah 2 - Pra Pengolahan Data**\n",
        "\n",
        "Pada tahap ini kita akan sedikit melakukan manipulasi pada citra yang digunakan. Manipulasi yang dilakukan diantaranya adalah normalisasi nilai piksel, koreksi kemiringan, pembesaran (zoom), dan flip.\n",
        "\n",
        "**Langkah 2.1. Pra Pengolahan Data Training**"
      ]
    },
    {
      "cell_type": "code",
      "execution_count": null,
      "metadata": {
        "id": "14Isk20jiD3k"
      },
      "outputs": [],
      "source": [
        "train_datagen = ImageDataGenerator(rescale = 1./255, # Membuat objek ImageDataGenerator dengan normalisasi nilai pixel citra antara 0 samapi 1\n",
        "                                   shear_range = 0.2, # Menentukan bahwa citra akan digeser secara acak sebesar 0,2 - 0,8 kali lebar atau tinggi gambar (membantu model untuk belajar dari citra yang diputar)\n",
        "                                   zoom_range = 0.2, # Menentukan bahwa citra akan diperbesar atau diperkecil secara acak sebesar 0,8 - 1,2 kali (membantu model untuk belajar dari gambar yang diperbesar atau diperkecil)\n",
        "                                   horizontal_flip = True) # Menentukan bahwa gambar akan dibalik secara horizontal secara acak (membantu model untuk belajar dari gambar yang dibalik)\n",
        "\n",
        "training_set = train_datagen.flow_from_directory('/content/drive/MyDrive/Images/dataset/training_set', # Membuat generator data dari direktori yang berisi gambar pelatihan\n",
        "                                                 target_size = (64, 64), # Setiap citra akan menjadi ukuran 64 x 64 pixel\n",
        "                                                 batch_size = 32, # Mengembalikan batch yang berisi 32 citra\n",
        "                                                 class_mode = 'binary') # Mengembalikan label berupa 2 kelas gambar saja"
      ]
    },
    {
      "cell_type": "markdown",
      "metadata": {
        "id": "D45xkIQiiD3k"
      },
      "source": [
        "**Langkah 2.2. Pra Pengolahan Data Testing**"
      ]
    },
    {
      "cell_type": "code",
      "execution_count": null,
      "metadata": {
        "id": "khjkYAXhiD3k"
      },
      "outputs": [],
      "source": [
        "test_datagen = ImageDataGenerator(rescale = 1./255) # Membuat objek ImageDataGenerator dengan normalisasi nilai pixel citra antara 0 samapi 1\n",
        "\n",
        "test_set = test_datagen.flow_from_directory('/content/drive/MyDrive/Images/dataset/test_set', # membuat generator data dari direktori yang berisi gambar uji\n",
        "                                            target_size = (64, 64), # Setiap citra akan menjadi ukuran 64 x 64 pixel\n",
        "                                            batch_size = 32, # Mengembalikan batch yang berisi 32 citra\n",
        "                                            class_mode = 'binary') # Mengembalikan label berupa 2 kelas gambar saja"
      ]
    },
    {
      "cell_type": "markdown",
      "metadata": {
        "id": "HcZTL82liD3k"
      },
      "source": [
        "**Langkah 3 - Pembuatan Model CNN**\n",
        "\n",
        "**Langkah 3.1.  - Inisiasi Model CNN**"
      ]
    },
    {
      "cell_type": "code",
      "execution_count": null,
      "metadata": {
        "id": "ojVPZHxpiD3l"
      },
      "outputs": [],
      "source": [
        "cnn = tf.keras.models.Sequential() # Membuat model Sequential"
      ]
    },
    {
      "cell_type": "markdown",
      "metadata": {
        "id": "AzJRHEFdiD3l"
      },
      "source": [
        "**Langkah 3.2. - Pembuatan Layer Konvolusi 1**"
      ]
    },
    {
      "cell_type": "code",
      "execution_count": null,
      "metadata": {
        "id": "17YcYLwQiD3l"
      },
      "outputs": [],
      "source": [
        "cnn.add(tf.keras.layers.Conv2D(filters=32, kernel_size=3, activation='relu', input_shape=[64, 64, 3])) # Menambahkan layer convolutional 2D ke model dengan 32 filter dengan ukuran kernel 3 x 3 dan fungsi aktivasi berupa ReLU dengan ukuran input 64 x 64 x 3 yang berupa citra RGB"
      ]
    },
    {
      "cell_type": "markdown",
      "metadata": {
        "id": "ODAjdgDtiD3l"
      },
      "source": [
        "**Langkah 3.3 - Pembuatan Layer Pooling 1**"
      ]
    },
    {
      "cell_type": "code",
      "execution_count": null,
      "metadata": {
        "id": "tvK9UOfkiD3l"
      },
      "outputs": [],
      "source": [
        "cnn.add(tf.keras.layers.MaxPool2D(pool_size=2, strides=2)) # Menambahkan lapisan pooling 2D ke model dengan tipe Max dan ukuran 2 x 2 serta perpindahan untuk setiap ekstraksi berupa 2 pixel"
      ]
    },
    {
      "cell_type": "markdown",
      "metadata": {
        "id": "mrgI7SACiD3l"
      },
      "source": [
        "**Langkah 3.4 - Pembuatan Layer Konvolusi 2 dan Pooling 2**"
      ]
    },
    {
      "cell_type": "code",
      "execution_count": null,
      "metadata": {
        "id": "NlGDpdoFiD3m"
      },
      "outputs": [],
      "source": [
        "cnn.add(tf.keras.layers.Conv2D(filters=32, kernel_size=3, activation='relu')) # Menambahkan layer convolutional 2D ke model dengan 32 filter dengan ukuran kernel 3 x 3 dan fungsi aktivasi berupa ReLU\n",
        "cnn.add(tf.keras.layers.MaxPool2D(pool_size=2, strides=2))  # Menambahkan lapisan pooling 2D ke model dengan tipe Max dan ukuran 2 x 2 serta perpindahan untuk setiap ekstraksi berupa 2 pixel"
      ]
    },
    {
      "cell_type": "markdown",
      "metadata": {
        "id": "qx6K1Bc4iD3m"
      },
      "source": [
        "**Langkah 3.5 - Flattening**"
      ]
    },
    {
      "cell_type": "code",
      "execution_count": null,
      "metadata": {
        "id": "pjb2jSlFiD3m"
      },
      "outputs": [],
      "source": [
        "cnn.add(tf.keras.layers.Flatten()) # Menambahkan layer Flatten pada model yang digunakan untuk pemrosesan dimensi input menjadi 1 dimensi"
      ]
    },
    {
      "cell_type": "markdown",
      "metadata": {
        "id": "UMwi6mMRiD3m"
      },
      "source": [
        "**Langkah 3.6 - Fully Connected Layer 1 (Input)**"
      ]
    },
    {
      "cell_type": "code",
      "execution_count": null,
      "metadata": {
        "id": "SulHRFDqiD3m"
      },
      "outputs": [],
      "source": [
        "cnn.add(tf.keras.layers.Dense(units=128, activation='relu')) # Menambah layer Dense (Full Connceted) dengan 128 neuron dan fungsi aktivasi ReLU"
      ]
    },
    {
      "cell_type": "markdown",
      "metadata": {
        "id": "OG-KD19DiD3n"
      },
      "source": [
        "**Langkah 3.7 - Fully Connected Layer 2 (Output)**"
      ]
    },
    {
      "cell_type": "code",
      "execution_count": null,
      "metadata": {
        "id": "QuTIVzUAiD3n"
      },
      "outputs": [],
      "source": [
        "cnn.add(tf.keras.layers.Dense(units=1, activation='sigmoid')) # # Menambah layer Dense (Full Connceted) dengan satu neuron yang menunukan true atau false (1 atau 0) saja dan fungsi aktivasi Sigmoid"
      ]
    },
    {
      "cell_type": "markdown",
      "metadata": {
        "id": "mo5L9TTGiD3n"
      },
      "source": [
        "**Langkah 3.8 - Compile Model CNN**"
      ]
    },
    {
      "cell_type": "code",
      "execution_count": null,
      "metadata": {
        "id": "FwR1RUlYiD3o"
      },
      "outputs": [],
      "source": [
        "cnn.compile(optimizer = 'adam', # Compile Model dengan optimizer ADAM\n",
        "            loss = 'binary_crossentropy', # Fungsi kerugian ini digunakan untuk klasifikasi binary\n",
        "            metrics = ['accuracy']) # Matrik akurasi untuk menyimpan akurasi dari kinerja model"
      ]
    },
    {
      "cell_type": "markdown",
      "metadata": {
        "id": "uUb7ct27iD3o"
      },
      "source": [
        "Penggunaan **loss function binary crossentropy** dikarenakan kita hanya melakukan klasifikasi pada dua kelas, yaitu kucing dan anjing.\n",
        "\n",
        "**Langkah 4 - Fit CNN**"
      ]
    },
    {
      "cell_type": "code",
      "execution_count": null,
      "metadata": {
        "id": "veuLpQzCiD3o"
      },
      "outputs": [],
      "source": [
        "cnn.fit(x = training_set, validation_data = test_set, epochs = 25) # Melatih model dengan training_set dan test_set dengan epoch sebanyak 25"
      ]
    },
    {
      "cell_type": "markdown",
      "metadata": {
        "id": "gcp-Y9b2iD3o"
      },
      "source": [
        "**Langkah 5 - Prediksi dengan 1 Citra**\n",
        "\n",
        "Pada langkah ini, kita akan mencoba melakukan prediksi pada 1 citra anjing dan kucing."
      ]
    },
    {
      "cell_type": "code",
      "execution_count": null,
      "metadata": {
        "id": "IkgRrck8iD3p"
      },
      "outputs": [],
      "source": [
        "import numpy as np # Menyediakan berbagai fungsi untuk bekerja dengan array numerik\n",
        "from keras.preprocessing import image # Digunakan untuk memuat, mengubah ukuran, dan melakukan prapemrosesan gambar\n",
        "\n",
        "test_image = image.load_img('/content/drive/MyDrive/Images/dataset/single_prediction/cat_or_dog_1.jpg', target_size = (64, 64)) # memuat gambar dari file path dan mengubah ukurannya menjadi 64 x 64 piksel\n",
        "test_image = image.img_to_array(test_image) # Mengkonversi citra menjadi array numerik\n",
        "test_image = np.expand_dims(test_image, axis = 0) # Menambahkan dimensi baru ke array NumPy test_image. Dimensi baru akan ditambahkan pada sumbu ke-0, menjadi (1, 64, 64, 3)\n",
        "result = cnn.predict(test_image) # Memprediksi hasil dengan model beserta argument test_image\n",
        "training_set.class_indices # Mendapatkan dictionary yang berisi mapping dari kelas ke indeks kelas\n",
        "if result[0][0] == 1: # Kondisi jika value result pertama berupa 1, maka:\n",
        "  prediction = 'dog' # predictions adalah dog\n",
        "else:\n",
        "  prediction = 'cat' # predictions adalah cat"
      ]
    }
  ],
  "metadata": {
    "language_info": {
      "name": "python"
    },
    "colab": {
      "provenance": []
    }
  },
  "nbformat": 4,
  "nbformat_minor": 0
}