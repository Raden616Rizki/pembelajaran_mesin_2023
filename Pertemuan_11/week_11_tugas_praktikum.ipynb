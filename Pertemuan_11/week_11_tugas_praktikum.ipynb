{
  "cells": [
    {
      "cell_type": "markdown",
      "metadata": {
        "id": "OccFKnNr9f_C"
      },
      "source": [
        "**Tugas**\n",
        "\n",
        "- Modifikasi model CNN pada praktikum 2 sehingga didapatkan akurasi testing lebih dari 80%.\n",
        "- Buatlah model CNN untuk klasifikasi dataset MNIST."
      ]
    },
    {
      "cell_type": "markdown",
      "source": [
        "**Modifikasi Praktikum 2**"
      ],
      "metadata": {
        "id": "2aMCsICU9lws"
      }
    },
    {
      "cell_type": "code",
      "execution_count": null,
      "metadata": {
        "id": "rV9SpQPk9f_L"
      },
      "outputs": [],
      "source": [
        "import tensorflow as tf # Library yang mendukung dalam pembelajaran mesin\n",
        "\n",
        "from tensorflow.keras import datasets, layers, models # Datasets mendukung sekumpulan dataset yang siap digunakan. Layers mendukung pembuatan layer dalam JST, dan models berguna untuk membuat model yang digunakan dalam JST\n",
        "import matplotlib.pyplot as plt # Membantu dalam memvisualisasikan data"
      ]
    },
    {
      "cell_type": "code",
      "source": [
        "(train_images, train_labels), (test_images, test_labels) = datasets.cifar10.load_data() # Memuat dataset CIFAR dan menyimpan return value di empat variabel tersebut\n",
        "\n",
        "# Normalize pixel values to be between 0 and 1\n",
        "train_images, test_images = train_images / 255.0, test_images / 255.0 # Normalisasi nilai setiap pixel variabel train_images dan test_images di rentang 0 dan 1"
      ],
      "metadata": {
        "id": "KmMdAeNQ9q0u"
      },
      "execution_count": null,
      "outputs": []
    },
    {
      "cell_type": "code",
      "source": [
        "class_names = ['airplane', 'automobile', 'bird', 'cat', 'deer',\n",
        "               'dog', 'frog', 'horse', 'ship', 'truck'] # Inisialisasi nama kelas untuk setiap citra yang akan ditampilkan\n",
        "\n",
        "plt.figure(figsize=(10,10)) # mengatur ukuran figure yang ditampilkan menjadi 10 x 10 inchi\n",
        "for i in range(25): # Melakukan perulangan sebanyak 25 kali\n",
        "    plt.subplot(5,5,i+1) # Mengatur baris dan kolom menjadi 5 x 5\n",
        "    plt.xticks([]) # Menghapus default label sumbu x\n",
        "    plt.yticks([]) # Menghapus default label sumbu y\n",
        "    plt.grid(False) # Tidak menampilkan grid atau petak\n",
        "    plt.imshow(train_images[i]) # Menampilkan citra dari variabel train_images indeks ke-i\n",
        "    # The CIFAR labels happen to be arrays,\n",
        "    # which is why you need the extra index\n",
        "    plt.xlabel(class_names[train_labels[i][0]]) # Menambahkan label di sisi x (horizontal) berupa nama kelas pada citra\n",
        "plt.show() # Memvisualisasikan data yang diatur sebelumnya dalam objek plt"
      ],
      "metadata": {
        "id": "QQaQvCQ99sh6"
      },
      "execution_count": null,
      "outputs": []
    },
    {
      "cell_type": "code",
      "source": [
        "model = models.Sequential() # Membuat model Sequential\n",
        "model.add(layers.Conv2D(32, (3, 3), activation='relu', input_shape=(32, 32, 3))) # Menambahkan layer convolutional 2D ke model dengan 32 filter dengan ukuran 3 x 3 dan fungsi aktivasi berupa ReLU dengan ukuran input 32 x 32 x 3 yang berupa citra RGB\n",
        "model.add(layers.MaxPooling2D((2, 2))) # Menambahkan layer Pooling 2D dengan tipe Max berukuran 2 x 2\n",
        "model.add(layers.Conv2D(64, (3, 3), activation='relu'))  # Menambahkan layer convolutional 2D ke model dengan 64 filter dengan ukuran 3 x 3 dan fungsi aktivasi berupa ReLU\n",
        "model.add(layers.MaxPooling2D((2, 2))) # Menambahkan layer Pooling 2D dengan tipe Max berukuran 2 x 2\n",
        "model.add(layers.Conv2D(64, (3, 3), activation='relu'))  # Menambahkan layer convolutional 2D ke model dengan 64 filter dengan ukuran 3 x 3 dan fungsi aktivasi berupa ReLU"
      ],
      "metadata": {
        "id": "-aHbw0lX9uMJ"
      },
      "execution_count": null,
      "outputs": []
    },
    {
      "cell_type": "code",
      "source": [
        "model.summary() # Menampilkan ringkasan detail model"
      ],
      "metadata": {
        "id": "wGV_50sv9wM6"
      },
      "execution_count": null,
      "outputs": []
    },
    {
      "cell_type": "code",
      "source": [
        "model.add(layers.Flatten()) # Menambahkan layer Flatten pada model yang digunakan untuk pemrosesan dimensi input menjadi 1 dimensi\n",
        "model.add(layers.Dense(64, activation='relu')) # Menambah layer Dense (Full Connceted) dengan 64 neuron dan fungsi aktivasi ReLU\n",
        "model.add(layers.Dense(10)) # Menambah layer Dense (Full Connceted) dengan 10 neuron yang sesuai 10 kelas yang ditentukan sebelumnya"
      ],
      "metadata": {
        "id": "ecv9cv6O90qD"
      },
      "execution_count": null,
      "outputs": []
    },
    {
      "cell_type": "code",
      "source": [
        "model.summary() # Menampilkan ringkasan detail model"
      ],
      "metadata": {
        "id": "iwb0NTgt92WD"
      },
      "execution_count": null,
      "outputs": []
    },
    {
      "cell_type": "code",
      "source": [
        "model.compile(optimizer='adam', # Compile Model dengan optimizer ADAM\n",
        "              loss=tf.keras.losses.SparseCategoricalCrossentropy(from_logits=True), # Fungsi kerugian SparseCategoricalCrossentropy adalah fungsi kerugian yang digunakan untuk klasifikasi multikelas dengan menerima logits atau probabilitas sebagai input\n",
        "              metrics=['accuracy']) # Matrik akurasi untuk menyimpan akurasi dari kinerja model"
      ],
      "metadata": {
        "id": "t9xUqdDM95Lb"
      },
      "execution_count": null,
      "outputs": []
    },
    {
      "cell_type": "code",
      "source": [
        "history = model.fit(train_images, train_labels, epochs=10,\n",
        "                    validation_data=(test_images, test_labels)) # Melatih model dengan train_images dan train_labels dengan epoch sebanyak 10 kali dan data validasi berupa test_images dan test_labels"
      ],
      "metadata": {
        "id": "ygwKxn0d95us"
      },
      "execution_count": null,
      "outputs": []
    },
    {
      "cell_type": "code",
      "source": [
        "plt.plot(history.history['accuracy'], label='accuracy') # Menmabahkan history berupa label atau penanda data di legend untuk accuracy\n",
        "plt.plot(history.history['val_accuracy'], label = 'val_accuracy') # Menmabahkan history berupa label atau penanda data di legend untuk val_accuracy\n",
        "plt.xlabel('Epoch') # Menambah label pada sumbu x (horizontal)\n",
        "plt.ylabel('Accuracy') # Menambah label pada sumbu y (vertikal)\n",
        "plt.ylim([0.5, 1]) # Panjang sumbu y\n",
        "plt.legend(loc='lower right') # Mengatur posisi legend di pojok kanan bawah\n",
        "\n",
        "test_loss, test_acc = model.evaluate(test_images, test_labels, verbose=2) # Mengevaluasi model menggunakan test_images dan test_labels dengan nilai verbose 2 yang menentukan rincian informasi yang diberikan"
      ],
      "metadata": {
        "id": "nXc7SCpB97J9"
      },
      "execution_count": null,
      "outputs": []
    },
    {
      "cell_type": "code",
      "source": [
        "print(test_acc) # Menampilkan nilai variabel test_acc"
      ],
      "metadata": {
        "id": "DLjwVY7B-JJ0"
      },
      "execution_count": null,
      "outputs": []
    },
    {
      "cell_type": "markdown",
      "source": [
        "**Klasifikasi MNIST**"
      ],
      "metadata": {
        "id": "LcRzkMJ--KIU"
      }
    }
  ],
  "metadata": {
    "language_info": {
      "name": "python"
    },
    "colab": {
      "provenance": []
    }
  },
  "nbformat": 4,
  "nbformat_minor": 0
}