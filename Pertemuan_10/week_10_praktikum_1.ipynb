{
  "cells": [
    {
      "cell_type": "markdown",
      "metadata": {
        "id": "CdVuVbBa63zX"
      },
      "source": [
        "**Praktikum 1**\n",
        "\n",
        "RNN untuk Analisis Sentimen\n",
        "\n",
        "---"
      ]
    },
    {
      "cell_type": "markdown",
      "metadata": {
        "id": "NpNvkwQl63zj"
      },
      "source": [
        "**Setup**\n",
        "\n",
        "Impor matplotlib dan buat fungsi pembantu untuk memplot grafik:"
      ]
    },
    {
      "cell_type": "code",
      "execution_count": 1,
      "metadata": {
        "id": "fvKp_Spo63zk"
      },
      "outputs": [],
      "source": [
        "import numpy as np # Membantu dalam manipulasi data numerik, seperti array, matriks, dan operasi matematika\n",
        "import tensorflow_datasets as tfds # Menyediakan berbagai dataset yang siap digunakan\n",
        "import tensorflow as tf # Menyediakan berbagai fungsi dan kelas untuk membangun, melatih, dan menjalankan model machine learning\n",
        "\n",
        "tfds.disable_progress_bar() # Menonaktifkan progress bar dari TensorFlow Datasets"
      ]
    },
    {
      "cell_type": "code",
      "execution_count": 2,
      "metadata": {
        "id": "-BgltPUR63zq"
      },
      "outputs": [],
      "source": [
        "import matplotlib.pyplot as plt # Berguna dalam memvisualisasikan data\n",
        "\n",
        "def plot_graphs(history, metric):\n",
        "    plt.plot(history.history[metric]) # Menampilkan kurva loss atau akurasi model\n",
        "    plt.plot(history.history['val_'+metric], '') # Menampilkan  kurva loss atau akurasi validasi\n",
        "    plt.xlabel(\"Epochs\") # Memberi label pada sisi horizontal\n",
        "    plt.ylabel(metric) # Memberi label pada sisi vertikal\n",
        "    plt.legend([metric, 'val_'+metric]) # Menambahkan daftar label"
      ]
    },
    {
      "cell_type": "markdown",
      "metadata": {
        "id": "LvvkGoWF63zr"
      },
      "source": [
        "**Setup input pipeline**\n",
        "\n",
        "Dataset ulasan film IMDB adalah kumpulan data klasifikasi biner—semua ulasan memiliki sentimen positif atau negatif.\n",
        "\n",
        "Download dataset menggunakan [TFDS](https://www.tensorflow.org/datasets)\n",
        ". Lihat [loading text tutorial](https://www.tensorflow.org/tutorials/load_data/text) jika ingin me load data secara manual"
      ]
    },
    {
      "cell_type": "code",
      "execution_count": 3,
      "metadata": {
        "id": "TTVrTt2063zs",
        "outputId": "a1f05247-99b2-479d-ce7e-016605050ba7",
        "colab": {
          "base_uri": "https://localhost:8080/"
        }
      },
      "outputs": [
        {
          "output_type": "stream",
          "name": "stdout",
          "text": [
            "Downloading and preparing dataset 80.23 MiB (download: 80.23 MiB, generated: Unknown size, total: 80.23 MiB) to /root/tensorflow_datasets/imdb_reviews/plain_text/1.0.0...\n",
            "Dataset imdb_reviews downloaded and prepared to /root/tensorflow_datasets/imdb_reviews/plain_text/1.0.0. Subsequent calls will reuse this data.\n"
          ]
        },
        {
          "output_type": "execute_result",
          "data": {
            "text/plain": [
              "(TensorSpec(shape=(), dtype=tf.string, name=None),\n",
              " TensorSpec(shape=(), dtype=tf.int64, name=None))"
            ]
          },
          "metadata": {},
          "execution_count": 3
        }
      ],
      "source": [
        "dataset, info = tfds.load('imdb_reviews', with_info=True, as_supervised=True) # Memuat data supervised dengan dataset berupa imdb_review\n",
        "train_dataset, test_dataset = dataset['train'], dataset['test'] # Membagi dataset menjadi data uji dan data latih\n",
        "\n",
        "train_dataset.element_spec # Mendapatkan struktur data dari elemen-elemen dalam dataset"
      ]
    },
    {
      "cell_type": "markdown",
      "metadata": {
        "id": "sfxHfmcH63zt"
      },
      "source": [
        "Awalnya ini mengembalikan dataset (teks, pasangan label):"
      ]
    },
    {
      "cell_type": "code",
      "execution_count": 4,
      "metadata": {
        "id": "wXpL4AvD63zu",
        "outputId": "51600b6d-48c0-45e6-880a-172dc68a1f1c",
        "colab": {
          "base_uri": "https://localhost:8080/"
        }
      },
      "outputs": [
        {
          "output_type": "stream",
          "name": "stdout",
          "text": [
            "text:  b\"This was an absolutely terrible movie. Don't be lured in by Christopher Walken or Michael Ironside. Both are great actors, but this must simply be their worst role in history. Even their great acting could not redeem this movie's ridiculous storyline. This movie is an early nineties US propaganda piece. The most pathetic scenes were those when the Columbian rebels were making their cases for revolutions. Maria Conchita Alonso appeared phony, and her pseudo-love affair with Walken was nothing but a pathetic emotional plug in a movie that was devoid of any real meaning. I am disappointed that there are movies like this, ruining actor's like Christopher Walken's good name. I could barely sit through it.\"\n",
            "label:  0\n"
          ]
        }
      ],
      "source": [
        "for example, label in train_dataset.take(1): # Perulangan berdasarkan pembagian train_dataset.take(1) menjadi example dan label\n",
        "    print('text: ', example.numpy()) # Menampilkan data contoh teks\n",
        "    print('label: ', label.numpy()) # Menampilkan label"
      ]
    },
    {
      "cell_type": "markdown",
      "metadata": {
        "id": "P3wWr6Rd63zv"
      },
      "source": [
        "Berikutnya acak data untuk pelatihan dan membuat kumpulan pasangan (teks, label) ini:"
      ]
    },
    {
      "cell_type": "code",
      "execution_count": 5,
      "metadata": {
        "id": "7sxU5Yu_63zw",
        "outputId": "50c371bd-4fd5-4e22-a675-0dc23740cc7e",
        "colab": {
          "base_uri": "https://localhost:8080/"
        }
      },
      "outputs": [
        {
          "output_type": "stream",
          "name": "stdout",
          "text": [
            "texts:  [b\"Whilst I have loved haunted house movies such as Amityville and Poltergeist, this made for TV adaption of Susan Hills book packs a huge punch on the horrors of Hollywood.<br /><br />With a brilliant cast (many of which star in Heartbeat and other TV dramas), great acting, and fantastic setting (which portrays 1920's life convincingly), it has all the right ingredients to entice the viewer into what is a powerful ghost story.<br /><br />Herbert Wise did not need blood, violence, or gore to send chills down the spines of an audience. Using your own imagination, the Woman In Black is a figure of fear and dread, and whose presence is never absent once she first appears.<br /><br />The main character Arthur Kidd, a solicitor, learns about his unseen spectre on his mission to settle the estate. The widow dies and Arthur spends few nights inside her dreary home in which he notices many oddities, which may haunt him for some days. Some of the scenes are very unsettling and claustrophobic, particularly the locked room which opens itself, which turns the generator off and closes Arthur in darkness. The film becomes more harrowing the more you put yourself in Arthurs shoes, and his efforts to shake this ghost off. The writer puts many chilling additions into the story, an example being the tin soldier's re-appearance. One is eager to learn the meaning of it all. The fact we never really learn that much about the widow, leaves more to the imagination and makes it all the more unsettling.<br /><br />The widow for the most part, looks vicious and intimidating. The scene after winding the generator sent the chills down me, a woman who appears out of nowhere on isolated marshy land with a howling wind \\xc2\\x96 having been on such properties myself I can appreciate how isolating this is. And the scene in the inn was perhaps the most horrible things I've seen, one I don't wish to watch in a hurry or show to elderly relatives. I have often woken up at night thinking she was behind me in my sleep.<br /><br />The Woman In Black is a great TV movie and a lost gem. I agree to some extent the Internet hype for this film has been totally overblown and can see why people were disappointed after spending the best of \\xc2\\xa350 on it, but I think the net has defeated hidden gems because it makes films like these over-exposed. I think it's still brilliant and fantastically acted and I consider it the greatest ghost story of the last century.\"\n",
            " b\"Despite a tight narrative, Johnnie To's Election feels at times like it was once a longer picture, with many characters and plot strands abandoned or ultimately unresolved. Some of these are dealt with in the truly excellent and far superior sequel, Election 2: Harmony is a Virtue, but it's still a dependably enthralling thriller about a contested Triad election that bypasses the usual shootouts and explosions (though not the violence) in favour of constantly shifting alliances that can turn in the time it takes to make a phone call. It's also a film where the most ruthless character isn't always the most threatening one, as the chilling ending makes only too clear: one can imagine a lifetime of psychological counselling being necessary for all the trauma that one inflicts on one unfortunate bystander.<br /><br />Simon Yam, all too often a variable actor but always at his best under To's direction, has possibly never been better in the lead, not least because Tony Leung's much more extrovert performance makes his stillness more the powerful.\"\n",
            " b\"Phantom Lady (1944) Dir: Robert Siodmak <br /><br />Production: Universal Pictures<br /><br />Scott Henderson (Alan Curtis), following a nasty fight and split with his wife, looks to drown his sorrows at the local watering hole. There he spies a woman in a similar emotional state and, looking for some companionship, asks her to a show at a club to get both their minds off their problems. She agrees, but only on the condition that they keep their names to themselves. Sure enough, when Scott gets home he finds the police there, waiting to question him. His wife's been murdered. Where were you at 8 o'clock this evening, asks Inspector Burgess (Thomas Gomez)? But Scott has an alibi, right? Only he doesn't know the woman's name. And the bartender remembers Scott but not the woman. Neither does the cab driver. Nor the drummer (Elisha Cook Jr.) at the club. Even the dancer at the club, who Scott clearly caught looking at the woman (they were both wearing the same hat), won't acknowledge there was someone with him. Something is going on, but whatever it is Scott is helpless to defend himself at a trial and is sentenced to death for his wife's murder (on the flimsiest 'evidence' in Hollywood judicial history). It's left to his loyal secretary, 'Kansas' (Ella Raines), who's later joined by a sympathetic Inspector Burgess, to find out the real killer before Scott is executed.<br /><br />Phantom Lady is built on themes that recur, almost compulsively, in Woolrich's work. For example, the schizophrenic antagonist is also seen in Black Angel and The Leopard Man. Additionally, there is the character who becomes mentally unhinged by the death of a sweetheart or spouse as found in Rendezvous in Black and The Bride Wore Black. It can leave a viewer feeling like he's treading on well worn ground. But in the right hands, the feverish plots, sorry dialogue, the narrative inconsistencies, all are beside the point. Fortunately, Phantom Lady was being guided by sound hands.<br /><br />This is Siodmak's first noir. He would go on to distinguish himself as one of the, if not the, preeminent practitioners of the style (The Killers, Criss Cross). Here he is fortuitously paired with cinematographer Woody Bredell (they would be reunited on Christmas Holiday and The Killers). There is some great storytelling done in the camera. In one shot, the deteriorating mental state of a character is shown as he sits in front of a 3-way mirror, suggesting multiple personalities. The same character, who is an artist, has Van Gogh's self portrait with the bandaged ear hanging on the wall in his apartment. But what Siodmak and Bredell are really doing in Phantom Lady is practically creating the look for noir. Released very early in 1944, it's all here; the wet pavement, the bags of atmosphere and dread, the sharply contrasting b&w, the wildly expressionistic versions of reality (when Kansas visits Scott in prison), the discordant shafts of light, etc. It is a terrific picture to look at.<br /><br />Franchot Tone aside, the cast, as well as the subject matter and relative inexperience of the director (and presumably, the budget), suggests 'B' movie ambitions. I thought Tone was a little hammy. Alan Curtis (High Sierra) is not up to much, and actually comes off pretty weak in a few scenes. Ella Raines is mostly good (and quite beautiful). Her 'sex scene' with Elisha Cook Jr. is so delirious it has to be seen to be believed. Another standout scene is when Kansas goes after the bartender to question him. It amounts to a chase scene, as she relentlessly dogs him through the streets, with a stop at a subway station. Some real good tension in there.<br /><br />*** out of 4\"]\n",
            "\n",
            "labels:  [1 1 1]\n"
          ]
        }
      ],
      "source": [
        "BUFFER_SIZE = 10000 # Inisialisasi variabel BUFFER_SIZE\n",
        "BATCH_SIZE = 64 # Inisialisasi variabel BATCH_SIZE\n",
        "\n",
        "train_dataset = train_dataset.shuffle(BUFFER_SIZE).batch(BATCH_SIZE).prefetch(tf.data.AUTOTUNE) # Mempersiapkan train_dataset dengan melakukan pengacakan dan mengatur batch untuk mencegah overfitting serta prefetch untuk mengurangi waktu memuat data\n",
        "test_dataset = test_dataset.batch(BATCH_SIZE).prefetch(tf.data.AUTOTUNE) # Mempersiapkan test_dataset dengan melakukan pengacakan dan mengatur batch untuk mencegah overfitting serta prefetch untuk mengurangi waktu memuat data\n",
        "\n",
        "for example, label in train_dataset.take(1): # Perulangan berdasarkan pembagian train_dataset.take(1) menjadi example dan label\n",
        "    print('texts: ', example.numpy()[:3]) # Menampilkan 3 data contoh teks\n",
        "    print()\n",
        "    print('labels: ', label.numpy()[:3]) # Menampilkan 3 label"
      ]
    },
    {
      "cell_type": "markdown",
      "metadata": {
        "id": "cdp4fbkc63zx"
      },
      "source": [
        "**Buat Teks Encoder**\n",
        "\n",
        "***"
      ]
    },
    {
      "cell_type": "markdown",
      "metadata": {
        "id": "udkA7Cg163zx"
      },
      "source": [
        "Teks mentah yang dimuat oleh tfds perlu diproses sebelum dapat digunakan dalam model. Cara termudah memproses teks untuk pelatihan adalah menggunakan lapisan TextVectorization. Lapisan ini memiliki banyak kemampuan, namun pada tutorial ini menggunakan perilaku default. Buat lapisan tersebut, dan teruskan teks kumpulan data ke metode .adapt lapisan:"
      ]
    },
    {
      "cell_type": "code",
      "execution_count": 6,
      "metadata": {
        "id": "ePgAmevf63zy"
      },
      "outputs": [],
      "source": [
        "VOCAB_SIZE = 1000 # Inisialisasi variabel VOCAB_SIZE\n",
        "encoder = tf.keras.layers.TextVectorization(max_tokens=VOCAB_SIZE) # Mengubah text menjadi nilai numerik dengan maksimal token sebanyak VOCAB_SIZE\n",
        "encoder.adapt(train_dataset.map(lambda text, label: text)) # Menyesuaikan encoder dengan train_dataset"
      ]
    },
    {
      "cell_type": "markdown",
      "metadata": {
        "id": "ItqB6avE63zz"
      },
      "source": [
        "Metode .adapt mengatur kosakata lapisan. 20 token pertama dapat dilihat dengan kode berikut. Setelah padding dan token yang tidak diketahui, mereka diurutkan berdasarkan frekuensi:"
      ]
    },
    {
      "cell_type": "code",
      "execution_count": 7,
      "metadata": {
        "id": "AJgjV_H063zz",
        "outputId": "41f28d9e-3be3-4c16-db86-a8dc8bbe3575",
        "colab": {
          "base_uri": "https://localhost:8080/"
        }
      },
      "outputs": [
        {
          "output_type": "execute_result",
          "data": {
            "text/plain": [
              "array(['', '[UNK]', 'the', 'and', 'a', 'of', 'to', 'is', 'in', 'it', 'i',\n",
              "       'this', 'that', 'br', 'was', 'as', 'for', 'with', 'movie', 'but'],\n",
              "      dtype='<U14')"
            ]
          },
          "metadata": {},
          "execution_count": 7
        }
      ],
      "source": [
        "vocab = np.array(encoder.get_vocabulary()) # Memperoleh vocabulary yang telah dipelajari encoder dari train_dataset\n",
        "vocab[:20] # Menampilkan 20 data variabel vocab"
      ]
    },
    {
      "cell_type": "markdown",
      "metadata": {
        "id": "BxcdRIUn63zz"
      },
      "source": [
        "Setelah kosakata diatur, lapisan dapat mengkodekan teks ke dalam indeks. Tensor indeks diberi bantalan 0 ke urutan terpanjang dalam batch (kecuali jika Anda menetapkan output_sequence_length tetap):"
      ]
    },
    {
      "cell_type": "code",
      "execution_count": 8,
      "metadata": {
        "id": "28o_LTxi63z0",
        "outputId": "e9341e49-d6a3-463f-8402-3f1e6d076ed7",
        "colab": {
          "base_uri": "https://localhost:8080/"
        }
      },
      "outputs": [
        {
          "output_type": "execute_result",
          "data": {
            "text/plain": [
              "array([[  1,  10,  26, ...,   0,   0,   0],\n",
              "       [450,   4,   1, ...,   0,   0,   0],\n",
              "       [  1, 742,   1, ...,   0,   0,   0]])"
            ]
          },
          "metadata": {},
          "execution_count": 8
        }
      ],
      "source": [
        "encoded_example = encoder(example)[:3].numpy() # Merubah data teks menjadi numerik dengan encoder dan mengambil 3 data\n",
        "encoded_example # Menampilkan array encoded_example"
      ]
    },
    {
      "cell_type": "markdown",
      "metadata": {
        "id": "EPSFpR2G63z1"
      },
      "source": [
        "Dengan pengaturan default, prosesnya tidak dapat dibalik sepenuhnya. Ada dua alasan utama untuk itu:\n",
        "\n",
        "- Nilai default untuk argumen standarisasi preprocessing.TextVectorization adalah \"lower_and_strip_punctuation\" (mengubah semua teks menjadi huruf kecil dan menghapus semua tanda baca sebelum dienkode).\n",
        "- Ukuran kosa kata yang terbatas dan kurangnya fallback berbasis karakter menghasilkan beberapa token yang tidak diketahui."
      ]
    },
    {
      "cell_type": "code",
      "execution_count": 9,
      "metadata": {
        "id": "zD7I3Wx663z1",
        "outputId": "aec006e0-b72e-4654-dcf9-fe3ba367838c",
        "colab": {
          "base_uri": "https://localhost:8080/"
        }
      },
      "outputs": [
        {
          "output_type": "stream",
          "name": "stdout",
          "text": [
            "Original:  b\"Whilst I have loved haunted house movies such as Amityville and Poltergeist, this made for TV adaption of Susan Hills book packs a huge punch on the horrors of Hollywood.<br /><br />With a brilliant cast (many of which star in Heartbeat and other TV dramas), great acting, and fantastic setting (which portrays 1920's life convincingly), it has all the right ingredients to entice the viewer into what is a powerful ghost story.<br /><br />Herbert Wise did not need blood, violence, or gore to send chills down the spines of an audience. Using your own imagination, the Woman In Black is a figure of fear and dread, and whose presence is never absent once she first appears.<br /><br />The main character Arthur Kidd, a solicitor, learns about his unseen spectre on his mission to settle the estate. The widow dies and Arthur spends few nights inside her dreary home in which he notices many oddities, which may haunt him for some days. Some of the scenes are very unsettling and claustrophobic, particularly the locked room which opens itself, which turns the generator off and closes Arthur in darkness. The film becomes more harrowing the more you put yourself in Arthurs shoes, and his efforts to shake this ghost off. The writer puts many chilling additions into the story, an example being the tin soldier's re-appearance. One is eager to learn the meaning of it all. The fact we never really learn that much about the widow, leaves more to the imagination and makes it all the more unsettling.<br /><br />The widow for the most part, looks vicious and intimidating. The scene after winding the generator sent the chills down me, a woman who appears out of nowhere on isolated marshy land with a howling wind \\xc2\\x96 having been on such properties myself I can appreciate how isolating this is. And the scene in the inn was perhaps the most horrible things I've seen, one I don't wish to watch in a hurry or show to elderly relatives. I have often woken up at night thinking she was behind me in my sleep.<br /><br />The Woman In Black is a great TV movie and a lost gem. I agree to some extent the Internet hype for this film has been totally overblown and can see why people were disappointed after spending the best of \\xc2\\xa350 on it, but I think the net has defeated hidden gems because it makes films like these over-exposed. I think it's still brilliant and fantastically acted and I consider it the greatest ghost story of the last century.\"\n",
            "Round-trip:  [UNK] i have loved [UNK] house movies such as [UNK] and [UNK] this made for tv [UNK] of [UNK] [UNK] book [UNK] a huge [UNK] on the [UNK] of [UNK] br with a brilliant cast many of which star in [UNK] and other tv [UNK] great acting and fantastic setting which [UNK] [UNK] life [UNK] it has all the right [UNK] to [UNK] the viewer into what is a powerful [UNK] [UNK] br [UNK] [UNK] did not need blood violence or gore to [UNK] [UNK] down the [UNK] of an audience using your own [UNK] the woman in black is a figure of [UNK] and [UNK] and whose [UNK] is never [UNK] once she first [UNK] br the main character [UNK] [UNK] a [UNK] [UNK] about his [UNK] [UNK] on his [UNK] to [UNK] the [UNK] the [UNK] [UNK] and [UNK] [UNK] few [UNK] inside her [UNK] home in which he [UNK] many [UNK] which may [UNK] him for some days some of the scenes are very [UNK] and [UNK] particularly the [UNK] room which [UNK] itself which turns the [UNK] off and [UNK] [UNK] in [UNK] the film becomes more [UNK] the more you put yourself in [UNK] [UNK] and his [UNK] to [UNK] this [UNK] off the writer [UNK] many [UNK] [UNK] into the story an example being the [UNK] [UNK] [UNK] one is [UNK] to learn the [UNK] of it all the fact we never really learn that much about the [UNK] leaves more to the [UNK] and makes it all the more [UNK] br the [UNK] for the most part looks [UNK] and [UNK] the scene after [UNK] the [UNK] [UNK] the [UNK] down me a woman who appears out of [UNK] on [UNK] [UNK] [UNK] with a [UNK] [UNK]  having been on such [UNK] myself i can [UNK] how [UNK] this is and the scene in the [UNK] was perhaps the most horrible things ive seen one i dont wish to watch in a [UNK] or show to [UNK] [UNK] i have often [UNK] up at night thinking she was behind me in my [UNK] br the woman in black is a great tv movie and a lost [UNK] i [UNK] to some [UNK] the [UNK] [UNK] for this film has been totally [UNK] and can see why people were disappointed after [UNK] the best of [UNK] on it but i think the [UNK] has [UNK] [UNK] [UNK] because it makes films like these [UNK] i think its still brilliant and [UNK] [UNK] and i [UNK] it the greatest [UNK] story of the last [UNK]                                                                                                                                                                                                                                                                                                                                                                                                                                                                                                                                                                             \n",
            "\n",
            "Original:  b\"Despite a tight narrative, Johnnie To's Election feels at times like it was once a longer picture, with many characters and plot strands abandoned or ultimately unresolved. Some of these are dealt with in the truly excellent and far superior sequel, Election 2: Harmony is a Virtue, but it's still a dependably enthralling thriller about a contested Triad election that bypasses the usual shootouts and explosions (though not the violence) in favour of constantly shifting alliances that can turn in the time it takes to make a phone call. It's also a film where the most ruthless character isn't always the most threatening one, as the chilling ending makes only too clear: one can imagine a lifetime of psychological counselling being necessary for all the trauma that one inflicts on one unfortunate bystander.<br /><br />Simon Yam, all too often a variable actor but always at his best under To's direction, has possibly never been better in the lead, not least because Tony Leung's much more extrovert performance makes his stillness more the powerful.\"\n",
            "Round-trip:  despite a [UNK] [UNK] [UNK] [UNK] [UNK] feels at times like it was once a [UNK] picture with many characters and plot [UNK] [UNK] or [UNK] [UNK] some of these are [UNK] with in the truly excellent and far [UNK] sequel [UNK] 2 [UNK] is a [UNK] but its still a [UNK] [UNK] thriller about a [UNK] [UNK] [UNK] that [UNK] the usual [UNK] and [UNK] though not the violence in [UNK] of [UNK] [UNK] [UNK] that can turn in the time it takes to make a [UNK] call its also a film where the most [UNK] character isnt always the most [UNK] one as the [UNK] ending makes only too clear one can imagine a [UNK] of [UNK] [UNK] being [UNK] for all the [UNK] that one [UNK] on one [UNK] [UNK] br [UNK] [UNK] all too often a [UNK] actor but always at his best under [UNK] direction has possibly never been better in the lead not least because [UNK] [UNK] much more [UNK] performance makes his [UNK] more the powerful                                                                                                                                                                                                                                                                                                                                                                                                                                                                                                                                                                                                                                                                                                                                                                                                                                               \n",
            "\n",
            "Original:  b\"Phantom Lady (1944) Dir: Robert Siodmak <br /><br />Production: Universal Pictures<br /><br />Scott Henderson (Alan Curtis), following a nasty fight and split with his wife, looks to drown his sorrows at the local watering hole. There he spies a woman in a similar emotional state and, looking for some companionship, asks her to a show at a club to get both their minds off their problems. She agrees, but only on the condition that they keep their names to themselves. Sure enough, when Scott gets home he finds the police there, waiting to question him. His wife's been murdered. Where were you at 8 o'clock this evening, asks Inspector Burgess (Thomas Gomez)? But Scott has an alibi, right? Only he doesn't know the woman's name. And the bartender remembers Scott but not the woman. Neither does the cab driver. Nor the drummer (Elisha Cook Jr.) at the club. Even the dancer at the club, who Scott clearly caught looking at the woman (they were both wearing the same hat), won't acknowledge there was someone with him. Something is going on, but whatever it is Scott is helpless to defend himself at a trial and is sentenced to death for his wife's murder (on the flimsiest 'evidence' in Hollywood judicial history). It's left to his loyal secretary, 'Kansas' (Ella Raines), who's later joined by a sympathetic Inspector Burgess, to find out the real killer before Scott is executed.<br /><br />Phantom Lady is built on themes that recur, almost compulsively, in Woolrich's work. For example, the schizophrenic antagonist is also seen in Black Angel and The Leopard Man. Additionally, there is the character who becomes mentally unhinged by the death of a sweetheart or spouse as found in Rendezvous in Black and The Bride Wore Black. It can leave a viewer feeling like he's treading on well worn ground. But in the right hands, the feverish plots, sorry dialogue, the narrative inconsistencies, all are beside the point. Fortunately, Phantom Lady was being guided by sound hands.<br /><br />This is Siodmak's first noir. He would go on to distinguish himself as one of the, if not the, preeminent practitioners of the style (The Killers, Criss Cross). Here he is fortuitously paired with cinematographer Woody Bredell (they would be reunited on Christmas Holiday and The Killers). There is some great storytelling done in the camera. In one shot, the deteriorating mental state of a character is shown as he sits in front of a 3-way mirror, suggesting multiple personalities. The same character, who is an artist, has Van Gogh's self portrait with the bandaged ear hanging on the wall in his apartment. But what Siodmak and Bredell are really doing in Phantom Lady is practically creating the look for noir. Released very early in 1944, it's all here; the wet pavement, the bags of atmosphere and dread, the sharply contrasting b&w, the wildly expressionistic versions of reality (when Kansas visits Scott in prison), the discordant shafts of light, etc. It is a terrific picture to look at.<br /><br />Franchot Tone aside, the cast, as well as the subject matter and relative inexperience of the director (and presumably, the budget), suggests 'B' movie ambitions. I thought Tone was a little hammy. Alan Curtis (High Sierra) is not up to much, and actually comes off pretty weak in a few scenes. Ella Raines is mostly good (and quite beautiful). Her 'sex scene' with Elisha Cook Jr. is so delirious it has to be seen to be believed. Another standout scene is when Kansas goes after the bartender to question him. It amounts to a chase scene, as she relentlessly dogs him through the streets, with a stop at a subway station. Some real good tension in there.<br /><br />*** out of 4\"\n",
            "Round-trip:  [UNK] lady [UNK] [UNK] robert [UNK] br br production [UNK] [UNK] br [UNK] [UNK] [UNK] [UNK] [UNK] a [UNK] fight and [UNK] with his wife looks to [UNK] his [UNK] at the local [UNK] [UNK] there he [UNK] a woman in a similar emotional [UNK] and looking for some [UNK] [UNK] her to a show at a [UNK] to get both their [UNK] off their problems she [UNK] but only on the [UNK] that they keep their [UNK] to themselves sure enough when [UNK] gets home he finds the police there [UNK] to question him his [UNK] been [UNK] where were you at [UNK] [UNK] this [UNK] [UNK] [UNK] [UNK] [UNK] [UNK] but [UNK] has an [UNK] right only he doesnt know the [UNK] name and the [UNK] [UNK] [UNK] but not the woman [UNK] does the [UNK] [UNK] nor the [UNK] [UNK] [UNK] [UNK] at the [UNK] even the [UNK] at the [UNK] who [UNK] clearly [UNK] looking at the woman they were both [UNK] the same [UNK] wont [UNK] there was someone with him something is going on but whatever it is [UNK] is [UNK] to [UNK] himself at a [UNK] and is [UNK] to death for his [UNK] murder on the [UNK] [UNK] in hollywood [UNK] history its left to his [UNK] [UNK] [UNK] [UNK] [UNK] whos later [UNK] by a [UNK] [UNK] [UNK] to find out the real killer before [UNK] is [UNK] br [UNK] lady is [UNK] on [UNK] that [UNK] almost [UNK] in [UNK] work for example the [UNK] [UNK] is also seen in black [UNK] and the [UNK] man [UNK] there is the character who becomes [UNK] [UNK] by the death of a [UNK] or [UNK] as found in [UNK] in black and the [UNK] [UNK] black it can leave a viewer feeling like hes [UNK] on well [UNK] [UNK] but in the right hands the [UNK] [UNK] sorry dialogue the [UNK] [UNK] all are [UNK] the point [UNK] [UNK] lady was being [UNK] by sound [UNK] br this is [UNK] first [UNK] he would go on to [UNK] himself as one of the if not the [UNK] [UNK] of the style the [UNK] [UNK] [UNK] here he is [UNK] [UNK] with [UNK] [UNK] [UNK] they would be [UNK] on christmas [UNK] and the [UNK] there is some great [UNK] done in the camera in one shot the [UNK] [UNK] [UNK] of a character is shown as he [UNK] in [UNK] of a [UNK] [UNK] [UNK] [UNK] [UNK] the same character who is an [UNK] has [UNK] [UNK] [UNK] [UNK] with the [UNK] [UNK] [UNK] on the [UNK] in his [UNK] but what [UNK] and [UNK] are really doing in [UNK] lady is [UNK] [UNK] the look for [UNK] released very early in [UNK] its all here the [UNK] [UNK] the [UNK] of atmosphere and [UNK] the [UNK] [UNK] [UNK] the [UNK] [UNK] [UNK] of reality when [UNK] [UNK] [UNK] in [UNK] the [UNK] [UNK] of light etc it is a [UNK] picture to look [UNK] br [UNK] [UNK] [UNK] the cast as well as the subject matter and [UNK] [UNK] of the director and [UNK] the budget [UNK] b movie [UNK] i thought [UNK] was a little [UNK] [UNK] [UNK] high [UNK] is not up to much and actually comes off pretty weak in a few scenes [UNK] [UNK] is mostly good and quite beautiful her sex scene with [UNK] [UNK] [UNK] is so [UNK] it has to be seen to be [UNK] another [UNK] scene is when [UNK] goes after the [UNK] to question him it [UNK] to a [UNK] scene as she [UNK] [UNK] him through the [UNK] with a stop at a [UNK] [UNK] some real good [UNK] in [UNK] br out of 4                                                                                                                                                                                                                                                                                                                                                                           \n",
            "\n"
          ]
        }
      ],
      "source": [
        "for n in range(3): # Melakukan 3 kali perulangan\n",
        "    print(\"Original: \", example[n].numpy()) # Menampilkan nilai example pada indeks n\n",
        "    print(\"Round-trip: \", \" \".join(vocab[encoded_example[n]])) # Menampilkan data list encode_example pada indeks n yang sudah digabungkan\n",
        "    print()\n",
        "\n",
        "# UNK => Unknown"
      ]
    },
    {
      "cell_type": "markdown",
      "metadata": {
        "id": "g1EO20fw63z1"
      },
      "source": [
        "**Buat Model**\n",
        "\n",
        "---\n",
        "\n",
        "![image](https://github.com/tensorflow/text/blob/master/docs/tutorials/images/bidirectional.png?raw=1)\n",
        "\n",
        "---"
      ]
    },
    {
      "cell_type": "markdown",
      "metadata": {
        "id": "G_UDGWRC63z2"
      },
      "source": [
        "diagram model dapat dilihat pada gambar diatas\n",
        "\n",
        "1. Model ini dapat dibuat sebagai tf.keras.Sequential.\n",
        "\n",
        "2. Lapisan pertama adalah encoder, yang mengubah teks menjadi urutan indeks token.\n",
        "\n",
        "3. Setelah encoder adalah lapisan penyematan (embedding layer). Lapisan penyematan menyimpan satu vektor per kata. Saat dipanggil, ini mengubah rangkaian indeks kata menjadi rangkaian vektor. Vektor-vektor ini dapat dilatih. Setelah pelatihan (dengan data yang cukup), kata-kata dengan arti yang mirip sering kali memiliki vektor yang serupa. Pencarian indeks ini jauh lebih efisien daripada operasi setara dengan meneruskan vektor yang disandikan one-hot melalui lapisan tf.keras.layers.Dense.\n",
        "\n",
        "4. Jaringan saraf berulang (RNN) memproses masukan urutan dengan melakukan iterasi melalui elemen. RNN meneruskan keluaran dari satu langkah waktu ke masukannya pada langkah waktu berikutnya.\n",
        "Pembungkus tf.keras.layers.Bidirection juga dapat digunakan dengan lapisan RNN. Ini menyebarkan masukan maju dan mundur melalui lapisan RNN dan kemudian menggabungkan keluaran akhir.\n",
        "\n",
        "- Keuntungan utama RNN dua arah adalah sinyal dari awal masukan tidak perlu diproses sepanjang waktu untuk memengaruhi keluaran.\n",
        "\n",
        "- Kerugian utama dari RNN dua arah adalah Anda tidak dapat melakukan streaming prediksi secara efisien saat kata-kata ditambahkan di akhir.\n",
        "\n",
        "\n",
        "5. Setelah RNN mengonversi urutan menjadi satu vektor, kedua lapisan tersebut.Dense melakukan beberapa pemrosesan akhir, dan mengonversi representasi vektor ini menjadi logit tunggal sebagai keluaran klasifikasi.\n",
        "Kode nya adalah sebagai berikut :"
      ]
    },
    {
      "cell_type": "code",
      "execution_count": 10,
      "metadata": {
        "id": "DhwKtx7A63z2"
      },
      "outputs": [],
      "source": [
        "model = tf.keras.Sequential([ # Membual model Sequential\n",
        "    encoder, # Variabel encoder sebelumnya sebagai parameter\n",
        "    tf.keras.layers.Embedding( # Membuat embeded layer\n",
        "        input_dim=len(encoder.get_vocabulary()), # Jumlah token dalam vocabulary\n",
        "        output_dim=64, # Banyak fitur yang mewakili token\n",
        "        mask_zero=True), # Mengabaikan token dengan indeks 0\n",
        "    tf.keras.layers.Bidirectional(tf.keras.layers.LSTM(64)), # Membuat layer bidirectional dengan layer LTSM 64 unit\n",
        "    tf.keras.layers.Dense(64, activation='relu'), # Menambhakan layer Dense (Fully-Connected) dengan 64 neuron dan fungsi aktivasi berupa ReLU\n",
        "    tf.keras.layers.Dense(1) # Menambhakan layer Dense (Fully-Connected) dengan 1 neuron\n",
        "])"
      ]
    },
    {
      "cell_type": "markdown",
      "metadata": {
        "id": "BfGfaOzu63z2"
      },
      "source": [
        "Harap dicatat bahwa model sekuensial Keras digunakan di sini karena semua lapisan dalam model hanya memiliki masukan tunggal dan menghasilkan keluaran tunggal. Jika Anda ingin menggunakan lapisan RNN stateful, Anda mungkin ingin membangun model Anda dengan API fungsional Keras atau subkelas model sehingga Anda dapat mengambil dan menggunakan kembali status lapisan RNN. Untuk detailnya bisa dilihat pada Keras RNN guide\n",
        "\n",
        "Lapisan penyematan menggunakan masking (uses masking ) untuk menangani panjang urutan yang bervariasi. Semua lapisan setelah penyematan dukungan penyematan"
      ]
    },
    {
      "cell_type": "code",
      "execution_count": 11,
      "metadata": {
        "id": "UMuzcXpp63z3",
        "outputId": "5b8b5014-fe99-444b-dc69-059b75e0948e",
        "colab": {
          "base_uri": "https://localhost:8080/"
        }
      },
      "outputs": [
        {
          "output_type": "stream",
          "name": "stdout",
          "text": [
            "[False, True, True, True, True]\n"
          ]
        }
      ],
      "source": [
        "print([layer.supports_masking for layer in model.layers]) # Menampilkan daftar boolean apakah model mendukung masking"
      ]
    },
    {
      "cell_type": "markdown",
      "metadata": {
        "id": "2g99GSnB63z3"
      },
      "source": [
        "Untuk memastikan bahwa ini berfungsi seperti yang diharapkan, evaluasi sebuah kalimat dua kali. Pertama, satu kalimat sehingga tidak ada bantalan (padding) untuk disamarkan:"
      ]
    },
    {
      "cell_type": "code",
      "execution_count": 12,
      "metadata": {
        "id": "zFmu81gr63z3",
        "outputId": "e604961c-fdbf-4df1-e2e3-4065f5cafacb",
        "colab": {
          "base_uri": "https://localhost:8080/"
        }
      },
      "outputs": [
        {
          "output_type": "stream",
          "name": "stdout",
          "text": [
            "1/1 [==============================] - 3s 3s/step\n",
            "[0.00751726]\n"
          ]
        }
      ],
      "source": [
        "# predict on a sample text without padding.\n",
        "\n",
        "sample_text = ('The movie was cool. The animation and the graphics '\n",
        "               'were out of this world. I would recommend this movie.') # Inisialisasi variabel sample_text\n",
        "predictions = model.predict(np.array([sample_text])) # Melakukan prediksi nilai berdasarkan sample_text yang dirubah ke array numpy\n",
        "print(predictions[0]) # Menampilkan nilai prediksi pertama"
      ]
    },
    {
      "cell_type": "markdown",
      "metadata": {
        "id": "ydliDHNy63z3"
      },
      "source": [
        "Sekarang, evaluasi lagi dalam batch dengan kalimat yang lebih panjang. Hasilnya harus sama:"
      ]
    },
    {
      "cell_type": "code",
      "execution_count": 13,
      "metadata": {
        "id": "OAEn7lGv63z3",
        "outputId": "66563aa1-5022-4211-ba14-ce83594d7f0e",
        "colab": {
          "base_uri": "https://localhost:8080/"
        }
      },
      "outputs": [
        {
          "output_type": "stream",
          "name": "stdout",
          "text": [
            "1/1 [==============================] - 1s 549ms/step\n",
            "[0.00751726]\n"
          ]
        }
      ],
      "source": [
        "# predict on a sample text with padding\n",
        "\n",
        "padding = \"the \" * 2000 # Membuat variabel padding\n",
        "predictions = model.predict(np.array([sample_text, padding])) # Melakukan prediksi nilai berdasarkan sample_text dan padding yang dirubah ke array numpy\n",
        "print(predictions[0]) # Menampilkan nilai prediksi pertama"
      ]
    },
    {
      "cell_type": "markdown",
      "metadata": {
        "id": "l7ZmIRiW63z4"
      },
      "source": [
        "compile model Keras untuk mengonfigurasi proses pelatihan:"
      ]
    },
    {
      "cell_type": "code",
      "execution_count": 14,
      "metadata": {
        "id": "4mj-fuhJ63z4"
      },
      "outputs": [],
      "source": [
        "model.compile(loss=tf.keras.losses.BinaryCrossentropy(from_logits=True), # Compile Model dengan argument loss berdasarkan BinaryCrossentropy dengan output logits (nilai numerik yang mewakili kemungkinan kelas 1 dan 0)\n",
        "              optimizer=tf.keras.optimizers.Adam(1e-4), # Menggunakan optimizer ADAM dengan learning rate 1e-4\n",
        "              metrics=['accuracy']) # Dan argument metrics dengan accuracy"
      ]
    },
    {
      "cell_type": "markdown",
      "metadata": {
        "id": "1KU51gOl63z4"
      },
      "source": [
        "**Train Model**"
      ]
    },
    {
      "cell_type": "code",
      "execution_count": 15,
      "metadata": {
        "id": "c1L6wvhe63z4",
        "outputId": "2d789c7a-7414-451d-c3e7-1724d7593ce0",
        "colab": {
          "base_uri": "https://localhost:8080/"
        }
      },
      "outputs": [
        {
          "output_type": "stream",
          "name": "stdout",
          "text": [
            "Epoch 1/10\n",
            "391/391 [==============================] - 568s 1s/step - loss: 0.6418 - accuracy: 0.5844 - val_loss: 0.5051 - val_accuracy: 0.7698\n",
            "Epoch 2/10\n",
            "391/391 [==============================] - 546s 1s/step - loss: 0.4048 - accuracy: 0.8162 - val_loss: 0.3725 - val_accuracy: 0.8443\n",
            "Epoch 3/10\n",
            "391/391 [==============================] - 549s 1s/step - loss: 0.3412 - accuracy: 0.8495 - val_loss: 0.3385 - val_accuracy: 0.8500\n",
            "Epoch 4/10\n",
            "391/391 [==============================] - 555s 1s/step - loss: 0.3227 - accuracy: 0.8601 - val_loss: 0.3285 - val_accuracy: 0.8552\n",
            "Epoch 5/10\n",
            "391/391 [==============================] - 547s 1s/step - loss: 0.3131 - accuracy: 0.8624 - val_loss: 0.3361 - val_accuracy: 0.8599\n",
            "Epoch 6/10\n",
            "391/391 [==============================] - 545s 1s/step - loss: 0.3050 - accuracy: 0.8673 - val_loss: 0.3272 - val_accuracy: 0.8432\n",
            "Epoch 7/10\n",
            "391/391 [==============================] - 547s 1s/step - loss: 0.3039 - accuracy: 0.8691 - val_loss: 0.3278 - val_accuracy: 0.8589\n",
            "Epoch 8/10\n",
            "391/391 [==============================] - 548s 1s/step - loss: 0.3002 - accuracy: 0.8703 - val_loss: 0.3333 - val_accuracy: 0.8562\n",
            "Epoch 9/10\n",
            "391/391 [==============================] - 547s 1s/step - loss: 0.2994 - accuracy: 0.8712 - val_loss: 0.3188 - val_accuracy: 0.8583\n",
            "Epoch 10/10\n",
            "391/391 [==============================] - 560s 1s/step - loss: 0.2981 - accuracy: 0.8713 - val_loss: 0.3288 - val_accuracy: 0.8568\n"
          ]
        }
      ],
      "source": [
        "history = model.fit(train_dataset, epochs=10, validation_data=test_dataset, validation_steps=30) # Melatih model dengan train_dataset dan 10 epoch serta 30 sampel validasi"
      ]
    },
    {
      "cell_type": "code",
      "execution_count": 16,
      "metadata": {
        "id": "r8GwwhP863z5",
        "outputId": "793e0018-de17-42b2-a964-11b528e915ea",
        "colab": {
          "base_uri": "https://localhost:8080/"
        }
      },
      "outputs": [
        {
          "output_type": "stream",
          "name": "stdout",
          "text": [
            "391/391 [==============================] - 134s 342ms/step - loss: 0.3246 - accuracy: 0.8606\n",
            "Test Loss: 0.32460516691207886\n",
            "Test Accuracy: 0.8605999946594238\n"
          ]
        }
      ],
      "source": [
        "test_loss, test_acc = model.evaluate(test_dataset) # Menyimpan nilai loss dan accuracy hasil dari evaluasi model dengan test_dataset\n",
        "\n",
        "print('Test Loss:', test_loss) # Menampilkan nilai variabel test_loss\n",
        "print('Test Accuracy:', test_acc) # Menampilkan nilai variabel test_acc"
      ]
    },
    {
      "cell_type": "code",
      "execution_count": 17,
      "metadata": {
        "id": "NQ_vw6mH63z6",
        "outputId": "a8c889c5-e08b-4122-b63d-b7b66526547b",
        "colab": {
          "base_uri": "https://localhost:8080/",
          "height": 635
        }
      },
      "outputs": [
        {
          "output_type": "execute_result",
          "data": {
            "text/plain": [
              "(0.0, 0.6589579313993454)"
            ]
          },
          "metadata": {},
          "execution_count": 17
        },
        {
          "output_type": "display_data",
          "data": {
            "text/plain": [
              "<Figure size 1600x800 with 2 Axes>"
            ],
            "image/png": "[encoded data removed]"
          },
          "metadata": {}
        }
      ],
      "source": [
        "plt.figure(figsize=(16, 8)) # Membuat figure dengan ukuran 16 x 8\n",
        "plt.subplot(1, 2, 1) # membuat subplot dengan 1 baris dan 2 kolom, dan subplot ini akan ditempatkan di indeks 1\n",
        "plot_graphs(history, 'accuracy') # memplot grafik akurasi dari objek History\n",
        "plt.ylim(None, 1) # mengatur batas y dari grafik akurasi agar dimulai dari 0 dan berakhir di 1\n",
        "plt.subplot(1, 2, 2) # membuat subplot dengan 1 baris dan 2 kolom, dan subplot ini akan ditempatkan di indeks 2\n",
        "plot_graphs(history, 'loss') # memplot grafik loss dari objek History\n",
        "plt.ylim(0, None) #  mengatur batas y dari grafik loss agar dimulai dari 0"
      ]
    },
    {
      "cell_type": "markdown",
      "metadata": {
        "id": "ggQBq7Qh63z7"
      },
      "source": [
        "Jalankan prediksi pada kalimat baru:\n",
        "\n",
        "Jika prediksi >= 0,0 berarti positif, jika tidak maka negatif."
      ]
    },
    {
      "cell_type": "code",
      "execution_count": 18,
      "metadata": {
        "id": "XXSOyRbE63z7",
        "outputId": "1a4649f7-f98c-4224-d8ea-e0c85c97aea8",
        "colab": {
          "base_uri": "https://localhost:8080/"
        }
      },
      "outputs": [
        {
          "output_type": "stream",
          "name": "stdout",
          "text": [
            "1/1 [==============================] - 3s 3s/step\n"
          ]
        }
      ],
      "source": [
        "sample_text = ('The movie was cool. The animation and the graphics '\n",
        "               'were out of this world. I would recommend this movie.') # Inisialisasi variabel sample_text\n",
        "\n",
        "predictions = model.predict(np.array([sample_text])) # Melakukan prediksi nilai berdasarkan sample_text yang dirubah ke array numpy"
      ]
    },
    {
      "cell_type": "markdown",
      "metadata": {
        "id": "wn5SDau063z7"
      },
      "source": [
        "Stack two or more LSTM layers\n",
        "Lapisan berulang Keras memiliki dua mode yang tersedia yang dikontrol oleh argumen konstruktor return_sequences :\n",
        "\n",
        "- Jika False, ia hanya mengembalikan keluaran terakhir untuk setiap urutan masukan (bentuk tensor 2D (batch_size, output_features)). Ini adalah default yang digunakan pada model sebelumnya.\n",
        "- Jika True, Sequence lengkap output berturut-turut untuk setiap langkah waktu dikembalikan (bentuk tensor 3D (ukuran_batch, langkah waktu, fitur_output))."
      ]
    },
    {
      "cell_type": "markdown",
      "metadata": {
        "id": "2TSsQhtr63z8"
      },
      "source": [
        "Hal yang menarik dari penggunaan RNN dengan return_sequences=True adalah outputnya masih memiliki 3 axis, sama seperti inputnya, sehingga bisa diteruskan ke layer RNN lain, seperti ini:"
      ]
    },
    {
      "cell_type": "code",
      "execution_count": 19,
      "metadata": {
        "id": "6eGAA98l63z8"
      },
      "outputs": [],
      "source": [
        "model = tf.keras.Sequential([ # Membual model Sequential\n",
        "    encoder, # Variabel encoder sebelumnya sebagai parameter\n",
        "    tf.keras.layers.Embedding(len(encoder.get_vocabulary()), 64, mask_zero=True), # Membuat embeded layer dengan jumlah token dalam vocabulary dan 64 banyak fitur yang mewakili token serta Mengabaikan token dengan indeks 0\n",
        "    tf.keras.layers.Bidirectional(tf.keras.layers.LSTM(64, return_sequences=True)), # Membuat layer bidirectional dengan layer LTSM 64 unit dan mengembalikan seluruh urutan output\n",
        "    tf.keras.layers.Bidirectional(tf.keras.layers.LSTM(32)), # # Membuat layer bidirectional dengan layer LTSM 32 unit\n",
        "    tf.keras.layers.Dense(64, activation='relu'), # Menambhakan layer Dense (Fully-Connected) dengan 64 neuron dan fungsi aktivasi berupa ReLU\n",
        "    tf.keras.layers.Dropout(0.5), # enonaktifkan 50% dari unit di lapisan sebelumnya secara acak pada setiap iterasi pelatihan\n",
        "    tf.keras.layers.Dense(1) # Menambhakan layer Dense (Fully-Connected) dengan 1 neuron\n",
        "])"
      ]
    },
    {
      "cell_type": "code",
      "execution_count": 20,
      "metadata": {
        "id": "63tt_1TN630Q"
      },
      "outputs": [],
      "source": [
        "model.compile(loss=tf.keras.losses.BinaryCrossentropy(from_logits=True), # Compile Model dengan argument loss berdasarkan BinaryCrossentropy dengan output logits (nilai numerik yang mewakili kemungkinan kelas 1 dan 0)\n",
        "            optimizer=tf.keras.optimizers.Adam(1e-4), # Menggunakan optimizer ADAM dengan learning rate 1e-4\n",
        "            metrics=['accuracy']) # Dan argument metrics dengan accuracy"
      ]
    },
    {
      "cell_type": "code",
      "execution_count": null,
      "metadata": {
        "id": "CUKXXJPr630Q",
        "outputId": "3ce42193-61f7-4aa5-f6d7-223b9c33ad36",
        "colab": {
          "base_uri": "https://localhost:8080/"
        }
      },
      "outputs": [
        {
          "output_type": "stream",
          "name": "stdout",
          "text": [
            "Epoch 1/10\n",
            "391/391 [==============================] - 1098s 3s/step - loss: 0.6285 - accuracy: 0.5842 - val_loss: 0.4182 - val_accuracy: 0.8141\n",
            "Epoch 2/10\n",
            "391/391 [==============================] - 1090s 3s/step - loss: 0.3837 - accuracy: 0.8290 - val_loss: 0.3504 - val_accuracy: 0.8557\n",
            "Epoch 3/10\n",
            "318/391 [=======================>......] - ETA: 3:18 - loss: 0.3437 - accuracy: 0.8527"
          ]
        }
      ],
      "source": [
        "history = model.fit(train_dataset, epochs=10,\n",
        "                    validation_data=test_dataset,\n",
        "                    validation_steps=30) # Melatih model dengan train_dataset dan 10 epoch serta 30 sampel validasi"
      ]
    },
    {
      "cell_type": "code",
      "execution_count": null,
      "metadata": {
        "id": "raE0qWRf630Q"
      },
      "outputs": [],
      "source": [
        "test_loss, test_acc = model.evaluate(test_dataset) # Menyimpan nilai loss dan accuracy hasil dari evaluasi model dengan test_dataset\n",
        "\n",
        "print('Test Loss:', test_loss) # Menampilkan nilai variabel test_loss\n",
        "print('Test Accuracy:', test_acc) # Menampilkan nilai variabel test_acc"
      ]
    },
    {
      "cell_type": "code",
      "execution_count": null,
      "metadata": {
        "id": "KHj8-vqz630T"
      },
      "outputs": [],
      "source": [
        "# predict on a sample text without padding.\n",
        "\n",
        "sample_text = ('The movie was not good. The animation and the graphics '\n",
        "                'were terrible. I would not recommend this movie.') # Inisialisasi variabel sample_text\n",
        "\n",
        "predictions = model.predict(np.array([sample_text])) # Melakukan prediksi nilai berdasarkan sample_text yang dirubah ke array numpy\n",
        "print(predictions) # Menampilkan nilai prediksi"
      ]
    },
    {
      "cell_type": "code",
      "execution_count": null,
      "metadata": {
        "id": "0oWNBFYH630U"
      },
      "outputs": [],
      "source": [
        "plt.figure(figsize=(16, 6)) # Membuat figure dengan ukuran 16 x 6\n",
        "plt.subplot(1, 2, 1) # membuat subplot dengan 1 baris dan 2 kolom, dan subplot ini akan ditempatkan di indeks 1\n",
        "plot_graphs(history, 'accuracy') # memplot grafik akurasi dari objek History\n",
        "plt.subplot(1, 2, 2) # membuat subplot dengan 1 baris dan 2 kolom, dan subplot ini akan ditempatkan di indeks 2\n",
        "plot_graphs(history, 'loss') # memplot grafik loss dari objek History"
      ]
    },
    {
      "cell_type": "markdown",
      "source": [
        "**Catatan**\n",
        "\n",
        "- Informasi menarik lain terkait dengan [GRU layers](https://www.tensorflow.org/api_docs/python/tf/keras/layers/GRU).\n",
        "- Informasi membuat custom RNN --> [Keras RNN Guide](https://www.tensorflow.org/guide/keras/rnn)."
      ],
      "metadata": {
        "id": "rngVIuEx9PY7"
      }
    }
  ],
  "metadata": {
    "language_info": {
      "name": "python"
    },
    "colab": {
      "provenance": []
    },
    "kernelspec": {
      "name": "python3",
      "display_name": "Python 3"
    }
  },
  "nbformat": 4,
  "nbformat_minor": 0
}