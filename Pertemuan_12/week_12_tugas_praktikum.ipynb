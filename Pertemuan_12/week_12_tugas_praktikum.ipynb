{
 "cells": [
  {
   "cell_type": "markdown",
   "metadata": {},
   "source": [
    "**Tugas**\n",
    "\n",
    "**Mendeteksi orientasi teks dan jenis skrip**\n",
    "\n",
    "Tugas ini bertujuan untuk mendeteksi orientasi teks dan jenis skrip yang digunakan dalam suatu gambar menggunakan tesseract.\n",
    "\n",
    "---\n",
    "\n",
    "**Tugas:**\n",
    "\n",
    "---\n",
    "\n",
    "1. **Persiapan Gambar**:\n",
    "    - Gunakan gambar contoh yang disediakan ('hitchhikers-rotated.png').\n",
    "    - Tampilkan gambar asli menggunakan Python dan OpenCV.\n",
    "\n",
    "---\n",
    "\n",
    "2. **Deteksi Orientasi dan Skrip**:\n",
    "    - Implementasikan skrip Python untuk mendeteksi orientasi teks dalam gambar.\n",
    "    - Gunakan Tesseract untuk mendapatkan sudut rotasi (angle) dan jenis skrip (script).\n",
    "    - Tampilkan hasil orientasi dan jenis skrip.\n",
    "\n",
    "---"
   ]
  },
  {
   "cell_type": "code",
   "execution_count": null,
   "metadata": {},
   "outputs": [],
   "source": []
  }
 ],
 "metadata": {
  "language_info": {
   "name": "python"
  }
 },
 "nbformat": 4,
 "nbformat_minor": 2
}
