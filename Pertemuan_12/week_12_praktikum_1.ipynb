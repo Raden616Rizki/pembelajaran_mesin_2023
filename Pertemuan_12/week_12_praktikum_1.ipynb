{
 "cells": [
  {
   "cell_type": "markdown",
   "metadata": {},
   "source": [
    "**Praktikum 1**\n",
    "\n",
    "OCR with Pytesseract and OpenCV\n",
    "\n",
    "---\n",
    "\n",
    "**Deskripsi**\n",
    "\n",
    "Pada praktikum ini kita akan menerapkan teknik OCR dengan menggunakan tesseract dan openCV. Pytesseract or Python-tesseract merupakan alat OCR untuk Python yang juga berfungsi sebagai pembungkus untuk Mesin OCR Tesseract. Ia dapat membaca dan mengenali teks dalam gambar dan umumnya digunakan dalam kasus penggunaan ocr gambar ke teks menggunakan Python.\n",
    "\n",
    "Selain itu juga berguna sebagai skrip panggilan mandiri untuk tesseract, karena dapat membaca semua jenis gambar yang didukung oleh perpustakaan gambar Pillow dan Leptonica, termasuk jpeg, png, gif, bmp, tiff, dan lainnya.\n",
    "\n",
    "referensi lebih lengkap terkait pendekatan Python-tesseract dapat dibaca di [sini](https://github.com/madmaze/pytesseract).\n",
    "\n",
    "**Dataset**\n",
    "\n",
    "Dataset merupakan data citra yang digunakan dalam praktikum ini, pastikan koneksi Anda sebelum mengunduh dataset.\n",
    "\n",
    "=> [DOWNLOAD](https://1drv.ms/u/s!Aibg5RCIk3G4jzvOODytEBZ6R7UP?e=UVw17t)\n",
    "\n",
    "**Instalasi dan Import Library**"
   ]
  },
  {
   "cell_type": "code",
   "execution_count": null,
   "metadata": {},
   "outputs": [],
   "source": [
    "!sudo apt install tesseract-ocr\n",
    "!pip install pytesseract\n",
    "!pip install opencv-python"
   ]
  },
  {
   "cell_type": "code",
   "execution_count": null,
   "metadata": {},
   "outputs": [],
   "source": [
    "import re\n",
    "import cv2 \n",
    "import numpy as np\n",
    "import pytesseract\n",
    "from pytesseract import Output\n",
    "from matplotlib import pyplot as plt"
   ]
  },
  {
   "cell_type": "code",
   "execution_count": null,
   "metadata": {},
   "outputs": [],
   "source": [
    "IMG_DIR = 'images/'"
   ]
  },
  {
   "cell_type": "markdown",
   "metadata": {},
   "source": [
    "**Preprocessing images dengan OpenCV**\n",
    "\n",
    "Pada tahap ini kita akan akan menulis fungsi dasar untuk metode prapemrosesan yang berbeda, meliputi:\n",
    "\n",
    "- grayscaling\n",
    "- thresholding\n",
    "- dilating\n",
    "- eroding\n",
    "- opening\n",
    "- canny edge detection\n",
    "- noise removal\n",
    "- deskwing\n",
    "- template matching\n",
    "\n",
    "Metode yang berbeda dapat berguna untuk jenis gambar yang berbeda"
   ]
  },
  {
   "cell_type": "code",
   "execution_count": null,
   "metadata": {},
   "outputs": [],
   "source": [
    "# get grayscale image\n",
    "def get_grayscale(image):\n",
    "    return cv2.cvtColor(image, cv2.COLOR_BGR2GRAY)\n",
    "\n",
    "# noise removal\n",
    "def remove_noise(image):\n",
    "    return cv2.medianBlur(image,5)\n",
    " \n",
    "#thresholding\n",
    "def thresholding(image):\n",
    "    return cv2.threshold(image, 0, 255, cv2.THRESH_BINARY + cv2.THRESH_OTSU)[1]\n",
    "\n",
    "#dilation\n",
    "def dilate(image):\n",
    "    kernel = np.ones((5,5),np.uint8)\n",
    "    return cv2.dilate(image, kernel, iterations = 1)\n",
    "    \n",
    "#erosion\n",
    "def erode(image):\n",
    "    kernel = np.ones((5,5),np.uint8)\n",
    "    return cv2.erode(image, kernel, iterations = 1)\n",
    "\n",
    "#opening - erosion followed by dilation\n",
    "def opening(image):\n",
    "    kernel = np.ones((5,5),np.uint8)\n",
    "    return cv2.morphologyEx(image, cv2.MORPH_OPEN, kernel)\n",
    "\n",
    "#canny edge detection\n",
    "def canny(image):\n",
    "    return cv2.Canny(image, 100, 200)\n",
    "\n",
    "#skew correction\n",
    "def deskew(image):\n",
    "    coords = np.column_stack(np.where(image > 0))\n",
    "    angle = cv2.minAreaRect(coords)[-1]\n",
    "    if angle < -45:\n",
    "        angle = -(90 + angle)\n",
    "    else:\n",
    "        angle = -angle\n",
    "    (h, w) = image.shape[:2]\n",
    "    center = (w // 2, h // 2)\n",
    "    M = cv2.getRotationMatrix2D(center, angle, 1.0)\n",
    "    rotated = cv2.warpAffine(image, M, (w, h), flags=cv2.INTER_CUBIC, borderMode=cv2.BORDER_REPLICATE)\n",
    "    return rotated\n",
    "\n",
    "#template matching\n",
    "def match_template(image, template):\n",
    "    return cv2.matchTemplate(image, template, cv2.TM_CCOEFF_NORMED) "
   ]
  },
  {
   "cell_type": "code",
   "execution_count": null,
   "metadata": {},
   "outputs": [],
   "source": [
    "# Plot original image\n",
    "\n",
    "image = cv2.imread(IMG_DIR + 'aurebesh.jpg')\n",
    "b,g,r = cv2.split(image)\n",
    "rgb_img = cv2.merge([r,g,b])\n",
    "plt.imshow(rgb_img)\n",
    "plt.title('AUREBESH ORIGINAL IMAGE')\n",
    "plt.show()"
   ]
  },
  {
   "cell_type": "code",
   "execution_count": null,
   "metadata": {},
   "outputs": [],
   "source": [
    "# Preprocess image \n",
    "\n",
    "gray = get_grayscale(image)\n",
    "thresh = thresholding(gray)\n",
    "opening = opening(gray)\n",
    "canny = canny(gray)\n",
    "images = {'gray': gray, \n",
    "          'thresh': thresh, \n",
    "          'opening': opening, \n",
    "          'canny': canny}"
   ]
  },
  {
   "cell_type": "code",
   "execution_count": null,
   "metadata": {},
   "outputs": [],
   "source": [
    "# Plot images after preprocessing\n",
    "\n",
    "fig = plt.figure(figsize=(13,13))\n",
    "ax = []\n",
    "\n",
    "rows = 2\n",
    "columns = 2\n",
    "keys = list(images.keys())\n",
    "for i in range(rows*columns):\n",
    "    ax.append( fig.add_subplot(rows, columns, i+1) )\n",
    "    ax[-1].set_title('AUREBESH - ' + keys[i]) \n",
    "    plt.imshow(images[keys[i]], cmap='gray') "
   ]
  },
  {
   "cell_type": "code",
   "execution_count": null,
   "metadata": {},
   "outputs": [],
   "source": [
    "# Get OCR output using Pytesseract\n",
    "\n",
    "custom_config = r'--oem 3 --psm 6'\n",
    "print('-----------------------------------------')\n",
    "print('TESSERACT OUTPUT --> ORIGINAL IMAGE')\n",
    "print('-----------------------------------------')\n",
    "print(pytesseract.image_to_string(image, config=custom_config))\n",
    "print('\\n-----------------------------------------')\n",
    "print('TESSERACT OUTPUT --> THRESHOLDED IMAGE')\n",
    "print('-----------------------------------------')\n",
    "print(pytesseract.image_to_string(image, config=custom_config))\n",
    "print('\\n-----------------------------------------')\n",
    "print('TESSERACT OUTPUT --> OPENED IMAGE')\n",
    "print('-----------------------------------------')\n",
    "print(pytesseract.image_to_string(image, config=custom_config))\n",
    "print('\\n-----------------------------------------')\n",
    "print('TESSERACT OUTPUT --> CANNY EDGE IMAGE')\n",
    "print('-----------------------------------------')\n",
    "print(pytesseract.image_to_string(image, config=custom_config))"
   ]
  }
 ],
 "metadata": {
  "language_info": {
   "name": "python"
  }
 },
 "nbformat": 4,
 "nbformat_minor": 2
}
