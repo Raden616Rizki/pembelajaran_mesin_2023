{
 "cells": [
  {
   "cell_type": "markdown",
   "metadata": {},
   "source": [
    "**Praktikum 2**\n",
    "\n",
    "Mendapatkan bounding box di sekitar teks pada image\n",
    "\n",
    "---\n",
    "\n",
    "**Deskripsi**\n",
    "\n",
    "Saat menjalankan gambar melalui mesin Tesseract OCR, pytesseract memungkinkan pengguna untuk memperoleh informasi bounding box pada:\n",
    "\n",
    "1. Tingkat karakter,\n",
    "2. Tingkat kata,\n",
    "3. Berdasarkan pola regex.\n",
    "\n",
    "Pada praktikum ini, akan dijelaskan cara memperoleh kedua jenis informasi tersebut.\n",
    "\n",
    "**Bounding Box - Level Karakter**\n",
    "\n",
    "Dengan menggunakan Pytesseract, Anda dapat memperoleh informasi bounding box untuk hasil OCR dengan menggunakan kode berikut.\n",
    "\n",
    "Skrip di bawah ini akan memberikan informasi bounding box untuk setiap karakter yang terdeteksi oleh tesseract selama proses OCR."
   ]
  },
  {
   "cell_type": "code",
   "execution_count": null,
   "metadata": {},
   "outputs": [],
   "source": [
    "# Plot gambar original\n",
    "\n",
    "# Membaca gambar dari direktori\n",
    "image = cv2.imread(IMG_DIR + 'invoice-sample.jpg')\n",
    "\n",
    "# Memisahkan saluran warna (blue, green, red) karena matplotlib menggunakan skema warna RGB\n",
    "b, g, r = cv2.split(image)\n",
    "rgb_img = cv2.merge([r, g, b])\n",
    "\n",
    "# Menampilkan gambar dalam ukuran tertentu\n",
    "plt.figure(figsize=(16, 12))\n",
    "plt.imshow(rgb_img)\n",
    "plt.title('CONTOH GAMBAR INVOICE')\n",
    "plt.show()"
   ]
  },
  {
   "cell_type": "code",
   "execution_count": null,
   "metadata": {},
   "outputs": [],
   "source": [
    "# Membaca gambar dari direktori\n",
    "image = cv2.imread(IMG_DIR + 'invoice-sample.jpg')\n",
    "\n",
    "# Mendapatkan dimensi tinggi (h), lebar (w), dan channel warna (c) dari gambar\n",
    "h, w, c = image.shape\n",
    "\n",
    "# Menggunakan pytesseract.image_to_boxes() untuk mendapatkan informasi kotak karakter\n",
    "boxes = pytesseract.image_to_boxes(image)\n",
    "\n",
    "# Iterasi melalui setiap baris hasil dan membuat kotak pada gambar menggunakan OpenCV\n",
    "for b in boxes.splitlines():\n",
    "    b = b.split(' ')\n",
    "    image = cv2.rectangle(image, (int(b[1]), h - int(b[2])), (int(b[3]), h - int(b[4])), (0, 255, 0), 2)\n",
    "\n",
    "# Memisahkan channel warna untuk mengonversi dari BGR ke RGB\n",
    "b, g, r = cv2.split(image)\n",
    "rgb_img = cv2.merge([r, g, b])\n",
    "\n",
    "# Menampilkan gambar dengan kotak karakter\n",
    "plt.figure(figsize=(16, 12))\n",
    "plt.imshow(rgb_img)\n",
    "plt.title('CONTOH INVOICE DENGAN CHARACTER LEVEL BOXES')\n",
    "plt.show()"
   ]
  },
  {
   "cell_type": "markdown",
   "metadata": {},
   "source": [
    "**Bounding Box - Level Kata**\n",
    "\n",
    "langkah Selanjutnya kita akan menggunakan gambar contoh invoice di atas untuk menguji hasil output dari Tesseract.\n",
    "\n",
    "Pada Code berikut akan digunakan untuk membaca gambar contoh invoice, kemudian menggunakan fungsi pytesseract.image_to_data() untuk mendapatkan data teks dari gambar. "
   ]
  },
  {
   "cell_type": "code",
   "execution_count": null,
   "metadata": {},
   "outputs": [],
   "source": [
    "# Membaca gambar contoh invoice\n",
    "image = cv2.imread(IMG_DIR + 'invoice-sample.jpg')\n",
    "\n",
    "# Menggunakan pytesseract.image_to_data() untuk mendapatkan data teks dari gambar\n",
    "d = pytesseract.image_to_data(image, output_type=Output.DICT)\n",
    "\n",
    "# Menampilkan kunci-kunci data yang diperoleh dari hasil OCR\n",
    "print('DATA KEYS: \\n', d.keys())"
   ]
  },
  {
   "cell_type": "markdown",
   "metadata": {},
   "source": [
    "Selanjutnya pada code berikut digunakan untuk memfilter dan hanya menampilkan kotak-kotak kata yang memiliki tingkat kepercayaan (confidence) lebih dari 60%. Hasilnya, gambar contoh invoice akan ditampilkan dengan kotak-kotak yang menandai lokasi setiap kata dengan tingkat kepercayaan yang memenuhi syarat."
   ]
  },
  {
   "cell_type": "code",
   "execution_count": null,
   "metadata": {},
   "outputs": [],
   "source": [
    "n_boxes = len(d['text'])\n",
    "for i in range(n_boxes):\n",
    "    # Kondisi untuk hanya memilih kotak dengan kepercayaan > 60%\n",
    "    if int(d['conf'][i]) > 60:\n",
    "        # Mendapatkan koordinat dan ukuran kotak kata\n",
    "        (x, y, w, h) = (d['left'][i], d['top'][i], d['width'][i], d['height'][i])\n",
    "        # Membuat kotak pada gambar untuk kata dengan kepercayaan > 60%\n",
    "        image = cv2.rectangle(image, (x, y), (x + w, y + h), (0, 255, 0), 2)\n",
    "\n",
    "# Memisahkan channel warna untuk mengonversi dari BGR ke RGB\n",
    "b, g, r = cv2.split(image)\n",
    "rgb_img = cv2.merge([r, g, b])\n",
    "\n",
    "# Menampilkan gambar dengan kotak kata berdasarkan kepercayaan > 60%\n",
    "plt.figure(figsize=(16, 12))\n",
    "plt.imshow(rgb_img)\n",
    "plt.title('CONTOH INVOICE DENGAN KOTAK KATA LEVEL')\n",
    "plt.show()"
   ]
  },
  {
   "cell_type": "markdown",
   "metadata": {},
   "source": [
    "**Text template matching - Pola Regex**\n",
    "\n",
    "Misalkan kita ingin menemukan di mana suatu tanggal berada dalam sebuah gambar. Di sini, template yang kita akan gunakan berupa pola ekspresi reguler yang akan kita cocokkan dengan hasil OCR kita untuk menemukan kotak-kotak pembatas yang sesuai. Kita akan menggunakan modul regex dan fungsi image_to_data untuk hal ini."
   ]
  },
  {
   "cell_type": "code",
   "execution_count": null,
   "metadata": {},
   "outputs": [],
   "source": [
    "image = cv2.imread(IMG_DIR + 'invoice-sample.jpg')\n",
    "\n",
    "# Pola tanggal dalam format dd/mm/yyyy\n",
    "date_pattern = '^(0[1-9]|[12][0-9]|3[01])/(0[1-9]|1[012])/(19|20)\\d\\d$'\n",
    "\n",
    "n_boxes = len(d['text'])\n",
    "for i in range(n_boxes):\n",
    "    # Memeriksa apakah kotak memiliki tingkat kepercayaan lebih dari 60%\n",
    "    if int(d['conf'][i]) > 60:\n",
    "        # Memeriksa apakah teks di dalam kotak sesuai dengan pola tanggal\n",
    "        if re.match(date_pattern, d['text'][i]):\n",
    "            # Mendapatkan koordinat dan ukuran kotak kata\n",
    "            (x, y, w, h) = (d['left'][i], d['top'][i], d['width'][i], d['height'][i])\n",
    "            # Membuat kotak pada gambar untuk tanggal yang sesuai dengan pola\n",
    "            image = cv2.rectangle(image, (x, y), (x + w, y + h), (0, 255, 0), 2)\n",
    "\n",
    "# Memisahkan channel warna untuk mengonversi dari BGR ke RGB\n",
    "b, g, r = cv2.split(image)\n",
    "rgb_img = cv2.merge([r, g, b])\n",
    "\n",
    "# Menampilkan gambar dengan kotak-kotak yang menandai lokasi tanggal\n",
    "plt.figure(figsize=(16, 12))\n",
    "plt.imshow(rgb_img)\n",
    "plt.title('CONTOH INVOICE DENGAN KOTAK UNTUK TANGGAL')\n",
    "plt.show()"
   ]
  },
  {
   "cell_type": "markdown",
   "metadata": {},
   "source": [
    "**Deteksi berbagai bahasa - OCR**\n",
    "\n",
    "Anda dapat memeriksa bahasa yang tersedia dan didukung dalam tesseract pada taupan berikut\n",
    "\n",
    "- Tesseract memiliki dukungan unicode (UTF-8), dan dapat mengenali lebih dari 100 bahasa secara langsung.\n",
    "\n",
    "Untuk menetapkan bahasa yang diinginkan untuk hasil OCR Anda, gunakan argumen -l LANG dalam konfigurasi di mana LANG adalah kode tiga huruf untuk bahasa yang ingin Anda gunakan.\n",
    "\n",
    "Kode berikut digunakan untuk membaca dan menampilkan gambar yang berisi teks dalam beberapa bahasa. Gambar asli ditampilkan untuk memberikan gambaran tentang kontennya sebelum proses OCR."
   ]
  },
  {
   "cell_type": "code",
   "execution_count": null,
   "metadata": {},
   "outputs": [],
   "source": [
    "# Membaca gambar asli\n",
    "image = cv2.imread(IMG_DIR + 'greek-thai.png')\n",
    "\n",
    "# Memisahkan channel warna untuk mengonversi dari BGR ke RGB\n",
    "b, g, r = cv2.split(image)\n",
    "rgb_img = cv2.merge([r, g, b])\n",
    "\n",
    "# Menampilkan gambar asli\n",
    "plt.figure(figsize=(8, 16))\n",
    "plt.imshow(rgb_img, cmap='gray')\n",
    "plt.title('MULTIPLE LANGUAGE IMAGE')\n",
    "plt.show()"
   ]
  },
  {
   "cell_type": "markdown",
   "metadata": {},
   "source": [
    "Selanjutnya, Kode berikut digunakan untuk mengekstrak teks dari gambar dengan menggunakan Tesseract OCR. Konfigurasi khusus (custom_config) diterapkan dengan hanya menentukan bahasa Inggris (-l eng). Parameter lain seperti --oem 3 dan --psm 6 juga digunakan untuk mengoptimalkan hasil OCR sesuai kebutuhan."
   ]
  },
  {
   "cell_type": "code",
   "execution_count": null,
   "metadata": {},
   "outputs": [],
   "source": [
    "# Output dengan hanya bahasa Inggris yang ditentukan\n",
    "\n",
    "# Konfigurasi khusus dengan hanya bahasa Inggris yang diatur\n",
    "custom_config = r'-l eng --oem 3 --psm 6'\n",
    "\n",
    "# Menggunakan pytesseract.image_to_string() untuk mendapatkan teks dari gambar dengan konfigurasi khusus\n",
    "print(pytesseract.image_to_string(image, config=custom_config))"
   ]
  }
 ],
 "metadata": {
  "language_info": {
   "name": "python"
  }
 },
 "nbformat": 4,
 "nbformat_minor": 2
}
